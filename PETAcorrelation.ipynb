{
 "cells": [
  {
   "cell_type": "code",
   "execution_count": 1,
   "metadata": {},
   "outputs": [],
   "source": [
    "import scipy.io\n",
    "import pandas as pd\n",
    "import matplotlib.pyplot as plt\n",
    "import pickle"
   ]
  },
  {
   "cell_type": "code",
   "execution_count": 2,
   "metadata": {},
   "outputs": [],
   "source": [
    "pathToAppearsTest = '/mnt/rhome/paa/pedestrian/attribute_analysis_pedestrian/attribute_analysis_pedestrian/PETA/PETA_test0.csv'\n",
    "pathToAppearsVal = '/mnt/rhome/paa/pedestrian/attribute_analysis_pedestrian/attribute_analysis_pedestrian/PETA/PETA_val0.csv'\n",
    "pathToAppearsTrain = '/mnt/rhome/paa/pedestrian/attribute_analysis_pedestrian/attribute_analysis_pedestrian/PETA/PETA_train0.csv'\n",
    "\n",
    "pathToMaTest = '/mnt/rhome/paa/pedestrian/attribute_analysis_pedestrian/attribute_analysis_pedestrian/PETA/PETA_testing_ma.csv'\n",
    "pathToF1Test = '/mnt/rhome/paa/pedestrian/attribute_analysis_pedestrian/attribute_analysis_pedestrian/PETA/PETA_testing_f1.csv'\n",
    "pathToAccTest = '/mnt/rhome/paa/pedestrian/attribute_analysis_pedestrian/attribute_analysis_pedestrian/PETA/PETA_testing_acc.csv'\n",
    "pathToPrecTest = '/mnt/rhome/paa/pedestrian/attribute_analysis_pedestrian/attribute_analysis_pedestrian/PETA/PETA_testing_prec.csv'\n",
    "\n",
    "pathToMaTraining= '/mnt/rhome/paa/pedestrian/attribute_analysis_pedestrian/attribute_analysis_pedestrian/PETA/PETA_training_ma.csv'\n",
    "pathToF1Training = '/mnt/rhome/paa/pedestrian/attribute_analysis_pedestrian/attribute_analysis_pedestrian/PETA/PETA_training_f1.csv'\n",
    "pathToAccTraining = '/mnt/rhome/paa/pedestrian/attribute_analysis_pedestrian/attribute_analysis_pedestrian/PETA/PETA_training_acc.csv'\n",
    "pathToPrecTraining = '/mnt/rhome/paa/pedestrian/attribute_analysis_pedestrian/attribute_analysis_pedestrian/PETA/PETA_training_prec.csv'"
   ]
  },
  {
   "cell_type": "code",
   "execution_count": 3,
   "metadata": {},
   "outputs": [],
   "source": [
    "test_dt = pd.read_csv(pathToAppearsTest, sep='\\t', index_col=False)\n",
    "test_dt_ma = pd.read_csv(pathToMaTest, sep=',', index_col=False)\n",
    "test_dt_f1 = pd.read_csv(pathToF1Test, sep=',', index_col=False)\n",
    "test_dt_acc = pd.read_csv(pathToAccTest, sep=',', index_col=False)\n",
    "test_dt_prec = pd.read_csv(pathToPrecTest, sep=',', index_col=False)"
   ]
  },
  {
   "cell_type": "code",
   "execution_count": 4,
   "metadata": {},
   "outputs": [],
   "source": [
    "def getTestingCorrelation(test_dt,test_dt_ma,test_dt_f1,test_dt_acc,test_dt_prec):\n",
    "    notColumn = 'Unnamed: 0'\n",
    "    attributes = list(test_dt.columns)\n",
    "    attributes.remove(notColumn)\n",
    "\n",
    "    seed='605'\n",
    "    bestEpoch = 8\n",
    "\n",
    "    metrics_attributes_ma = [ 'testing_' + 'SkirtDress'+ '_ma_' + seed if attribute == 'Skirt&Dress' else 'testing_' + attribute + '_ma_' + seed for attribute in attributes]\n",
    "    metrics_attributes_f1 = [ 'testing_' + 'SkirtDress'+ '_label_f1_' + seed if attribute == 'Skirt&Dress' else 'testing_' + attribute + '_label_f1_' + seed for attribute in attributes]\n",
    "    metrics_attributes_acc = [ 'testing_' + 'SkirtDress'+ '_label_acc_' + seed if attribute == 'Skirt&Dress' else 'testing_' + attribute + '_label_acc_' + seed for attribute in attributes]\n",
    "    metrics_attributes_prec = [ 'testing_' + 'SkirtDress'+ '_label_prec_' + seed if attribute == 'Skirt&Dress' else 'testing_' + attribute + '_label_prec_' + seed for attribute in attributes]\n",
    "\n",
    "\n",
    "    pattern_ma = '|'.join([f'(?i){attribute}' for attribute in metrics_attributes_ma])\n",
    "    pattern_f1 = '|'.join([f'(?i){attribute}' for attribute in metrics_attributes_f1])\n",
    "    pattern_acc = '|'.join([f'(?i){attribute}' for attribute in metrics_attributes_acc])\n",
    "    pattern_prec = '|'.join([f'(?i){attribute}' for attribute in metrics_attributes_prec])\n",
    "\n",
    "    dt_ma_values = test_dt_ma[(test_dt_ma['step']==bestEpoch) & (test_dt_ma['key'].str.contains(pattern_ma))][['key','value']]\n",
    "    dt_f1_values = test_dt_f1[(test_dt_f1['step']==bestEpoch) & (test_dt_f1['key'].str.contains(pattern_f1))][['key','value']]\n",
    "    dt_acc_values = test_dt_acc[(test_dt_acc['step']==bestEpoch) & (test_dt_acc['key'].str.contains(pattern_acc))][['key','value']]\n",
    "    dt_prec_values = test_dt_prec[(test_dt_prec['step']==bestEpoch) & (test_dt_prec['key'].str.contains(pattern_prec))][['key','value']]\n",
    "\n",
    "    values_representation = list(test_dt[attributes].sum())\n",
    "    # values representation is aligned with:\n",
    "    #metrics_attributes_ma\n",
    "    #metrics_attributes_f1\n",
    "    #metrics_attributes_prec\n",
    "    #metrics_attributes_acc\n",
    "\n",
    "    values_representation_ma = [ values_representation[metrics_attributes_ma.index(key)] for key in dt_ma_values['key'].unique()]\n",
    "    values_representation_f1 = [ values_representation[metrics_attributes_f1.index(key)] for key in dt_f1_values['key'].unique()]\n",
    "    values_representation_prec = [ values_representation[metrics_attributes_prec.index(key)] for key in dt_prec_values['key'].unique()]\n",
    "    values_representation_acc = [ values_representation[metrics_attributes_acc.index(key)] for key in dt_acc_values['key'].unique()]\n",
    "\n",
    "    dt_ma_values['representation'] = values_representation_ma\n",
    "    dt_f1_values['representation'] = values_representation_f1\n",
    "    dt_prec_values['representation'] = values_representation_prec\n",
    "    dt_acc_values['representation'] = values_representation_acc\n",
    "\n",
    "    dt_ma_values['value'] = pd.to_numeric(dt_ma_values['value'])\n",
    "    dt_f1_values['value'] = pd.to_numeric(dt_f1_values['value'])\n",
    "    dt_prec_values['value'] = pd.to_numeric(dt_prec_values['value'])\n",
    "    dt_acc_values['value'] = pd.to_numeric(dt_acc_values['value'])\n",
    "\n",
    "    print(\"Corr ma: \")\n",
    "    print(dt_ma_values['value'].corr(dt_ma_values['representation']))\n",
    "\n",
    "    print(\"Corr f1: \")\n",
    "    print(dt_f1_values['value'].corr(dt_f1_values['representation']))\n",
    "\n",
    "    print(\"Corr prec: \")\n",
    "    print(dt_prec_values['value'].corr(dt_prec_values['representation']))\n",
    "\n",
    "    print(\"Corr acc: \")\n",
    "    print(dt_acc_values['value'].corr(dt_acc_values['representation']))"
   ]
  },
  {
   "cell_type": "code",
   "execution_count": 5,
   "metadata": {},
   "outputs": [],
   "source": [
    "def getTrainingCorrelation(test_dt,test_dt_ma,test_dt_f1,test_dt_acc,test_dt_prec):\n",
    "    notColumn = 'Unnamed: 0'\n",
    "    attributes = list(test_dt.columns)\n",
    "    attributes.remove(notColumn)\n",
    "\n",
    "    seed='605'\n",
    "    bestEpoch = 8\n",
    "\n",
    "    metrics_attributes_ma = [ 'training_' + 'SkirtDress'+ '_ma_' + seed if attribute == 'Skirt&Dress' else 'training_' + attribute + '_ma_' + seed for attribute in attributes]\n",
    "    metrics_attributes_f1 = [ 'training_' + 'SkirtDress'+ '_label_f1_' + seed if attribute == 'Skirt&Dress' else 'training_' + attribute + '_label_f1_' + seed for attribute in attributes]\n",
    "    metrics_attributes_acc = [ 'training_' + 'SkirtDress'+ '_label_acc_' + seed if attribute == 'Skirt&Dress' else 'training_' + attribute + '_label_acc_' + seed for attribute in attributes]\n",
    "    metrics_attributes_prec = [ 'training_' + 'SkirtDress'+ '_label_prec_' + seed if attribute == 'Skirt&Dress' else 'training_' + attribute + '_label_prec_' + seed for attribute in attributes]\n",
    "\n",
    "\n",
    "    pattern_ma = '|'.join([f'(?i){attribute}' for attribute in metrics_attributes_ma])\n",
    "    pattern_f1 = '|'.join([f'(?i){attribute}' for attribute in metrics_attributes_f1])\n",
    "    pattern_acc = '|'.join([f'(?i){attribute}' for attribute in metrics_attributes_acc])\n",
    "    pattern_prec = '|'.join([f'(?i){attribute}' for attribute in metrics_attributes_prec])\n",
    "\n",
    "    dt_ma_values = test_dt_ma[(test_dt_ma['step']==bestEpoch) & (test_dt_ma['key'].str.contains(pattern_ma))][['key','value']]\n",
    "    dt_f1_values = test_dt_f1[(test_dt_f1['step']==bestEpoch) & (test_dt_f1['key'].str.contains(pattern_f1))][['key','value']]\n",
    "    dt_acc_values = test_dt_acc[(test_dt_acc['step']==bestEpoch) & (test_dt_acc['key'].str.contains(pattern_acc))][['key','value']]\n",
    "    dt_prec_values = test_dt_prec[(test_dt_prec['step']==bestEpoch) & (test_dt_prec['key'].str.contains(pattern_prec))][['key','value']]\n",
    "\n",
    "    values_representation = list(test_dt[attributes].sum())\n",
    "    # values representation is aligned with:\n",
    "    #metrics_attributes_ma\n",
    "    #metrics_attributes_f1\n",
    "    #metrics_attributes_prec\n",
    "    #metrics_attributes_acc\n",
    "\n",
    "    values_representation_ma = [ values_representation[metrics_attributes_ma.index(key)] for key in dt_ma_values['key'].unique()]\n",
    "    values_representation_f1 = [ values_representation[metrics_attributes_f1.index(key)] for key in dt_f1_values['key'].unique()]\n",
    "    values_representation_prec = [ values_representation[metrics_attributes_prec.index(key)] for key in dt_prec_values['key'].unique()]\n",
    "    values_representation_acc = [ values_representation[metrics_attributes_acc.index(key)] for key in dt_acc_values['key'].unique()]\n",
    "\n",
    "    dt_ma_values['representation'] = values_representation_ma\n",
    "    dt_f1_values['representation'] = values_representation_f1\n",
    "    dt_prec_values['representation'] = values_representation_prec\n",
    "    dt_acc_values['representation'] = values_representation_acc\n",
    "\n",
    "    dt_ma_values['value'] = pd.to_numeric(dt_ma_values['value'])\n",
    "    dt_f1_values['value'] = pd.to_numeric(dt_f1_values['value'])\n",
    "    dt_prec_values['value'] = pd.to_numeric(dt_prec_values['value'])\n",
    "    dt_acc_values['value'] = pd.to_numeric(dt_acc_values['value'])\n",
    "\n",
    "    print(\"Corr ma: \")\n",
    "    print(dt_ma_values['value'].corr(dt_ma_values['representation']))\n",
    "\n",
    "    print(\"Corr f1: \")\n",
    "    print(dt_f1_values['value'].corr(dt_f1_values['representation']))\n",
    "\n",
    "    print(\"Corr prec: \")\n",
    "    print(dt_prec_values['value'].corr(dt_prec_values['representation']))\n",
    "\n",
    "    print(\"Corr acc: \")\n",
    "    print(dt_acc_values['value'].corr(dt_acc_values['representation']))"
   ]
  },
  {
   "cell_type": "code",
   "execution_count": 6,
   "metadata": {},
   "outputs": [
    {
     "name": "stdout",
     "output_type": "stream",
     "text": [
      "Corr ma: \n",
      "0.3672322414126283\n",
      "Corr f1: \n",
      "0.6193205365977701\n",
      "Corr prec: \n",
      "0.5341121322070059\n",
      "Corr acc: \n",
      "0.6671495365331268\n"
     ]
    }
   ],
   "source": [
    "getTestingCorrelation(test_dt,test_dt_ma,test_dt_f1,test_dt_acc,test_dt_prec)"
   ]
  },
  {
   "cell_type": "code",
   "execution_count": 7,
   "metadata": {},
   "outputs": [],
   "source": [
    "train_dt = pd.read_csv(pathToAppearsTrain, sep='\\t', index_col=False)\n",
    "train_dt_ma = pd.read_csv(pathToMaTraining, sep=',', index_col=False)\n",
    "train_dt_f1 = pd.read_csv(pathToF1Training, sep=',', index_col=False)\n",
    "train_dt_acc = pd.read_csv(pathToAccTraining, sep=',', index_col=False)\n",
    "train_dt_prec = pd.read_csv(pathToPrecTraining, sep=',', index_col=False)"
   ]
  },
  {
   "cell_type": "code",
   "execution_count": 8,
   "metadata": {},
   "outputs": [
    {
     "data": {
      "text/plain": [
       "Index(['run_id', 'key', 'value', 'step', 'timestamp'], dtype='object')"
      ]
     },
     "execution_count": 8,
     "metadata": {},
     "output_type": "execute_result"
    }
   ],
   "source": [
    "train_dt_acc.columns"
   ]
  },
  {
   "cell_type": "code",
   "execution_count": 9,
   "metadata": {},
   "outputs": [
    {
     "name": "stdout",
     "output_type": "stream",
     "text": [
      "Corr ma: \n",
      "0.37943117351933436\n",
      "Corr f1: \n",
      "0.531042184288592\n",
      "Corr prec: \n",
      "0.6049304383220705\n",
      "Corr acc: \n",
      "0.5867901488083024\n"
     ]
    }
   ],
   "source": [
    "getTrainingCorrelation(train_dt, train_dt_ma, train_dt_f1, train_dt_acc, train_dt_prec)"
   ]
  },
  {
   "cell_type": "code",
   "execution_count": null,
   "metadata": {},
   "outputs": [],
   "source": []
  }
 ],
 "metadata": {
  "kernelspec": {
   "display_name": "rethinking",
   "language": "python",
   "name": "python3"
  },
  "language_info": {
   "codemirror_mode": {
    "name": "ipython",
    "version": 3
   },
   "file_extension": ".py",
   "mimetype": "text/x-python",
   "name": "python",
   "nbconvert_exporter": "python",
   "pygments_lexer": "ipython3",
   "version": "3.7.0"
  }
 },
 "nbformat": 4,
 "nbformat_minor": 2
}
