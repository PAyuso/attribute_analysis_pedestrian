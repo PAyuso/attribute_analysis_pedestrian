{
 "cells": [
  {
   "cell_type": "code",
   "execution_count": 1,
   "metadata": {},
   "outputs": [],
   "source": [
    "import scipy.io\n",
    "import pandas as pd\n",
    "import matplotlib.pyplot as plt\n",
    "import pickle"
   ]
  },
  {
   "cell_type": "code",
   "execution_count": 2,
   "metadata": {},
   "outputs": [],
   "source": [
    "pathToAppearsTest = '/mnt/rhome/paa/pedestrian/attribute_analysis_pedestrian/attribute_analysis_pedestrian/RAPv2/RAPv2_test0.csv'\n",
    "pathToAppearsVal = '/mnt/rhome/paa/pedestrian/attribute_analysis_pedestrian/attribute_analysis_pedestrian/RAPv2/RAPv2_val0.csv'\n",
    "pathToAppearsTrain = '/mnt/rhome/paa/pedestrian/attribute_analysis_pedestrian/attribute_analysis_pedestrian/RAPv2/RAPv2_train0.csv'\n",
    "\n",
    "pathToMaTest = '/mnt/rhome/paa/pedestrian/attribute_analysis_pedestrian/attribute_analysis_pedestrian/RAPv2/RAPv2_testing_ma.csv'\n",
    "pathToF1Test = '/mnt/rhome/paa/pedestrian/attribute_analysis_pedestrian/attribute_analysis_pedestrian/RAPv2/RAPv2_testing_f1.csv'\n",
    "pathToAccTest = '/mnt/rhome/paa/pedestrian/attribute_analysis_pedestrian/attribute_analysis_pedestrian/RAPv2/RAPv2_testing_acc.csv'\n",
    "pathToPrecTest = '/mnt/rhome/paa/pedestrian/attribute_analysis_pedestrian/attribute_analysis_pedestrian/RAPv2/RAPv2_testing_prec.csv'\n",
    "\n",
    "pathToMaTraining= '/mnt/rhome/paa/pedestrian/attribute_analysis_pedestrian/attribute_analysis_pedestrian/RAPv2/RAPv2_training_ma.csv'\n",
    "pathToF1Training = '/mnt/rhome/paa/pedestrian/attribute_analysis_pedestrian/attribute_analysis_pedestrian/RAPv2/RAPv2_training_f1.csv'\n",
    "pathToAccTraining = '/mnt/rhome/paa/pedestrian/attribute_analysis_pedestrian/attribute_analysis_pedestrian/RAPv2/RAPv2_training_acc.csv'\n",
    "pathToPrecTraining = '/mnt/rhome/paa/pedestrian/attribute_analysis_pedestrian/attribute_analysis_pedestrian/RAPv2/RAPv2_training_prec.csv'"
   ]
  },
  {
   "cell_type": "code",
   "execution_count": 3,
   "metadata": {},
   "outputs": [],
   "source": [
    "test_dt = pd.read_csv(pathToAppearsTest, sep='\\t', index_col=False)\n",
    "test_dt_ma = pd.read_csv(pathToMaTest, sep=',', index_col=False)\n",
    "test_dt_f1 = pd.read_csv(pathToF1Test, sep=',', index_col=False)\n",
    "test_dt_acc = pd.read_csv(pathToAccTest, sep=',', index_col=False)\n",
    "test_dt_prec = pd.read_csv(pathToPrecTest, sep=',', index_col=False)"
   ]
  },
  {
   "cell_type": "code",
   "execution_count": 4,
   "metadata": {},
   "outputs": [],
   "source": [
    "def getTestingCorrelation(test_dt,test_dt_ma,test_dt_f1,test_dt_acc,test_dt_prec):\n",
    "    notColumn = 'Unnamed: 0'\n",
    "    attributes = list(test_dt.columns)\n",
    "    attributes.remove(notColumn)\n",
    "\n",
    "    seed='605'\n",
    "    bestEpoch = 8\n",
    "\n",
    "    metrics_attributes_ma = [ 'testing_' + 'SkirtDress'+ '_ma_' + seed if attribute == 'Skirt&Dress' else 'testing_' + attribute + '_ma_' + seed for attribute in attributes]\n",
    "    metrics_attributes_f1 = [ 'testing_' + 'SkirtDress'+ '_label_f1_' + seed if attribute == 'Skirt&Dress' else 'testing_' + attribute + '_label_f1_' + seed for attribute in attributes]\n",
    "    metrics_attributes_acc = [ 'testing_' + 'SkirtDress'+ '_label_acc_' + seed if attribute == 'Skirt&Dress' else 'testing_' + attribute + '_label_acc_' + seed for attribute in attributes]\n",
    "    metrics_attributes_prec = [ 'testing_' + 'SkirtDress'+ '_label_prec_' + seed if attribute == 'Skirt&Dress' else 'testing_' + attribute + '_label_prec_' + seed for attribute in attributes]\n",
    "\n",
    "\n",
    "    pattern_ma = '|'.join([f'(?i){attribute}' for attribute in metrics_attributes_ma])\n",
    "    pattern_f1 = '|'.join([f'(?i){attribute}' for attribute in metrics_attributes_f1])\n",
    "    pattern_acc = '|'.join([f'(?i){attribute}' for attribute in metrics_attributes_acc])\n",
    "    pattern_prec = '|'.join([f'(?i){attribute}' for attribute in metrics_attributes_prec])\n",
    "\n",
    "    dt_ma_values = test_dt_ma[(test_dt_ma['step']==bestEpoch) & (test_dt_ma['key'].str.contains(pattern_ma))][['key','value']]\n",
    "    dt_f1_values = test_dt_f1[(test_dt_f1['step']==bestEpoch) & (test_dt_f1['key'].str.contains(pattern_f1))][['key','value']]\n",
    "    dt_acc_values = test_dt_acc[(test_dt_acc['step']==bestEpoch) & (test_dt_acc['key'].str.contains(pattern_acc))][['key','value']]\n",
    "    dt_prec_values = test_dt_prec[(test_dt_prec['step']==bestEpoch) & (test_dt_prec['key'].str.contains(pattern_prec))][['key','value']]\n",
    "\n",
    "    values_representation = list(test_dt[attributes].sum())\n",
    "    # values representation is aligned with:\n",
    "    #metrics_attributes_ma\n",
    "    #metrics_attributes_f1\n",
    "    #metrics_attributes_prec\n",
    "    #metrics_attributes_acc\n",
    "\n",
    "    values_representation_ma = [ values_representation[metrics_attributes_ma.index(key)] for key in dt_ma_values['key'].unique()]\n",
    "    values_representation_f1 = [ values_representation[metrics_attributes_f1.index(key)] for key in dt_f1_values['key'].unique()]\n",
    "    values_representation_prec = [ values_representation[metrics_attributes_prec.index(key)] for key in dt_prec_values['key'].unique()]\n",
    "    values_representation_acc = [ values_representation[metrics_attributes_acc.index(key)] for key in dt_acc_values['key'].unique()]\n",
    "\n",
    "    dt_ma_values['representation'] = values_representation_ma\n",
    "    dt_f1_values['representation'] = values_representation_f1\n",
    "    dt_prec_values['representation'] = values_representation_prec\n",
    "    dt_acc_values['representation'] = values_representation_acc\n",
    "\n",
    "    dt_ma_values['value'] = pd.to_numeric(dt_ma_values['value'])\n",
    "    dt_f1_values['value'] = pd.to_numeric(dt_f1_values['value'])\n",
    "    dt_prec_values['value'] = pd.to_numeric(dt_prec_values['value'])\n",
    "    dt_acc_values['value'] = pd.to_numeric(dt_acc_values['value'])\n",
    "\n",
    "    print(\"Corr ma: \")\n",
    "    print(dt_ma_values['value'].corr(dt_ma_values['representation']))\n",
    "\n",
    "    print(\"Corr f1: \")\n",
    "    print(dt_f1_values['value'].corr(dt_f1_values['representation']))\n",
    "\n",
    "    print(\"Corr prec: \")\n",
    "    print(dt_prec_values['value'].corr(dt_prec_values['representation']))\n",
    "\n",
    "    print(\"Corr acc: \")\n",
    "    print(dt_acc_values['value'].corr(dt_acc_values['representation']))"
   ]
  },
  {
   "cell_type": "code",
   "execution_count": 5,
   "metadata": {},
   "outputs": [],
   "source": [
    "def getTrainingCorrelation(test_dt,test_dt_ma,test_dt_f1,test_dt_acc,test_dt_prec):\n",
    "    notColumn = 'Unnamed: 0'\n",
    "    attributes = list(test_dt.columns)\n",
    "    attributes.remove(notColumn)\n",
    "\n",
    "    seed='605'\n",
    "    bestEpoch = 8\n",
    "\n",
    "    metrics_attributes_ma = [ 'training_' + 'SkirtDress'+ '_ma_' + seed if attribute == 'Skirt&Dress' else 'training_' + attribute + '_ma_' + seed for attribute in attributes]\n",
    "    metrics_attributes_f1 = [ 'training_' + 'SkirtDress'+ '_label_f1_' + seed if attribute == 'Skirt&Dress' else 'training_' + attribute + '_label_f1_' + seed for attribute in attributes]\n",
    "    metrics_attributes_acc = [ 'training_' + 'SkirtDress'+ '_label_acc_' + seed if attribute == 'Skirt&Dress' else 'training_' + attribute + '_label_acc_' + seed for attribute in attributes]\n",
    "    metrics_attributes_prec = [ 'training_' + 'SkirtDress'+ '_label_prec_' + seed if attribute == 'Skirt&Dress' else 'training_' + attribute + '_label_prec_' + seed for attribute in attributes]\n",
    "\n",
    "\n",
    "    pattern_ma = '|'.join([f'(?i){attribute}' for attribute in metrics_attributes_ma])\n",
    "    pattern_f1 = '|'.join([f'(?i){attribute}' for attribute in metrics_attributes_f1])\n",
    "    pattern_acc = '|'.join([f'(?i){attribute}' for attribute in metrics_attributes_acc])\n",
    "    pattern_prec = '|'.join([f'(?i){attribute}' for attribute in metrics_attributes_prec])\n",
    "\n",
    "    dt_ma_values = test_dt_ma[(test_dt_ma['step']==bestEpoch) & (test_dt_ma['key'].str.contains(pattern_ma))][['key','value']]\n",
    "    dt_f1_values = test_dt_f1[(test_dt_f1['step']==bestEpoch) & (test_dt_f1['key'].str.contains(pattern_f1))][['key','value']]\n",
    "    dt_acc_values = test_dt_acc[(test_dt_acc['step']==bestEpoch) & (test_dt_acc['key'].str.contains(pattern_acc))][['key','value']]\n",
    "    dt_prec_values = test_dt_prec[(test_dt_prec['step']==bestEpoch) & (test_dt_prec['key'].str.contains(pattern_prec))][['key','value']]\n",
    "\n",
    "    values_representation = list(test_dt[attributes].sum())\n",
    "    # values representation is aligned with:\n",
    "    #metrics_attributes_ma\n",
    "    #metrics_attributes_f1\n",
    "    #metrics_attributes_prec\n",
    "    #metrics_attributes_acc\n",
    "\n",
    "    values_representation_ma = [ values_representation[metrics_attributes_ma.index(key)] for key in dt_ma_values['key'].unique()]\n",
    "    values_representation_f1 = [ values_representation[metrics_attributes_f1.index(key)] for key in dt_f1_values['key'].unique()]\n",
    "    values_representation_prec = [ values_representation[metrics_attributes_prec.index(key)] for key in dt_prec_values['key'].unique()]\n",
    "    values_representation_acc = [ values_representation[metrics_attributes_acc.index(key)] for key in dt_acc_values['key'].unique()]\n",
    "\n",
    "    dt_ma_values['representation'] = values_representation_ma\n",
    "    dt_f1_values['representation'] = values_representation_f1\n",
    "    dt_prec_values['representation'] = values_representation_prec\n",
    "    dt_acc_values['representation'] = values_representation_acc\n",
    "\n",
    "    dt_ma_values['value'] = pd.to_numeric(dt_ma_values['value'])\n",
    "    dt_f1_values['value'] = pd.to_numeric(dt_f1_values['value'])\n",
    "    dt_prec_values['value'] = pd.to_numeric(dt_prec_values['value'])\n",
    "    dt_acc_values['value'] = pd.to_numeric(dt_acc_values['value'])\n",
    "\n",
    "    print(\"Corr ma: \")\n",
    "    print(dt_ma_values['value'].corr(dt_ma_values['representation']))\n",
    "\n",
    "    print(\"Corr f1: \")\n",
    "    print(dt_f1_values['value'].corr(dt_f1_values['representation']))\n",
    "\n",
    "    print(\"Corr prec: \")\n",
    "    print(dt_prec_values['value'].corr(dt_prec_values['representation']))\n",
    "\n",
    "    print(\"Corr acc: \")\n",
    "    print(dt_acc_values['value'].corr(dt_acc_values['representation']))"
   ]
  },
  {
   "cell_type": "code",
   "execution_count": 6,
   "metadata": {},
   "outputs": [
    {
     "name": "stdout",
     "output_type": "stream",
     "text": [
      "Corr ma: \n",
      "0.0031796712385235\n",
      "Corr f1: \n",
      "0.5249763446310312\n",
      "Corr prec: \n",
      "0.5779980814592606\n",
      "Corr acc: \n",
      "0.6132490946450196\n"
     ]
    }
   ],
   "source": [
    "getTestingCorrelation(test_dt,test_dt_ma,test_dt_f1,test_dt_acc,test_dt_prec)"
   ]
  },
  {
   "cell_type": "code",
   "execution_count": 7,
   "metadata": {},
   "outputs": [],
   "source": [
    "train_dt = pd.read_csv(pathToAppearsTrain, sep='\\t', index_col=False)\n",
    "train_dt_ma = pd.read_csv(pathToMaTraining, sep=',', index_col=False)\n",
    "train_dt_f1 = pd.read_csv(pathToF1Training, sep=',', index_col=False)\n",
    "train_dt_acc = pd.read_csv(pathToAccTraining, sep=',', index_col=False)\n",
    "train_dt_prec = pd.read_csv(pathToPrecTraining, sep=',', index_col=False)"
   ]
  },
  {
   "cell_type": "code",
   "execution_count": 8,
   "metadata": {},
   "outputs": [
    {
     "name": "stdout",
     "output_type": "stream",
     "text": [
      "Corr ma: \n",
      "0.012392457633730156\n",
      "Corr f1: \n",
      "0.42634135384264793\n",
      "Corr prec: \n",
      "0.44713358069348275\n",
      "Corr acc: \n",
      "0.4905201331763452\n"
     ]
    }
   ],
   "source": [
    "getTrainingCorrelation(train_dt, train_dt_ma, train_dt_f1, train_dt_acc, train_dt_prec)"
   ]
  },
  {
   "cell_type": "code",
   "execution_count": 9,
   "metadata": {},
   "outputs": [],
   "source": []
  },
  {
   "cell_type": "code",
   "execution_count": 16,
   "metadata": {},
   "outputs": [
    {
     "data": {
      "text/plain": [
       "Index(['Unnamed: 0', 'Femal', 'AgeLess16', 'Age17-30', 'Age31-45', 'Age46-60',\n",
       "       'AgeBiger60', 'BodyFatter', 'BodyFat', 'BodyNormal',\n",
       "       ...\n",
       "       'attachment2-position-w', 'attachment2-position-h',\n",
       "       'attachment3-position-x', 'attachment3-position-y',\n",
       "       'attachment3-position-w', 'attachment3-position-h',\n",
       "       'attachment4-position-x', 'attachment4-position-y',\n",
       "       'attachment4-position-w', 'attachment4-position-h'],\n",
       "      dtype='object', length=153)"
      ]
     },
     "execution_count": 16,
     "metadata": {},
     "output_type": "execute_result"
    }
   ],
   "source": [
    "test_dt.columns"
   ]
  },
  {
   "cell_type": "code",
   "execution_count": 11,
   "metadata": {},
   "outputs": [],
   "source": [
    "def getTestingCorrelation(test_dt,test_dt_ma,test_dt_f1,test_dt_acc,test_dt_prec):\n",
    "    notColumn = 'Unnamed: 0'\n",
    "    attributes = list(test_dt.columns)\n",
    "    attributes.remove(notColumn)\n",
    "\n",
    "    seed='605'\n",
    "    bestEpoch = 8\n",
    "\n",
    "    metrics_attributes_ma = [ 'testing_' + 'SkirtDress'+ '_ma_' + seed if attribute == 'Skirt&Dress' else 'testing_' + attribute + '_ma_' + seed for attribute in attributes]\n",
    "    metrics_attributes_f1 = [ 'testing_' + 'SkirtDress'+ '_label_f1_' + seed if attribute == 'Skirt&Dress' else 'testing_' + attribute + '_label_f1_' + seed for attribute in attributes]\n",
    "    metrics_attributes_acc = [ 'testing_' + 'SkirtDress'+ '_label_acc_' + seed if attribute == 'Skirt&Dress' else 'testing_' + attribute + '_label_acc_' + seed for attribute in attributes]\n",
    "    metrics_attributes_prec = [ 'testing_' + 'SkirtDress'+ '_label_prec_' + seed if attribute == 'Skirt&Dress' else 'testing_' + attribute + '_label_prec_' + seed for attribute in attributes]\n",
    "\n",
    "\n",
    "    pattern_ma = '|'.join([f'(?i){attribute}' for attribute in metrics_attributes_ma])\n",
    "    pattern_f1 = '|'.join([f'(?i){attribute}' for attribute in metrics_attributes_f1])\n",
    "    pattern_acc = '|'.join([f'(?i){attribute}' for attribute in metrics_attributes_acc])\n",
    "    pattern_prec = '|'.join([f'(?i){attribute}' for attribute in metrics_attributes_prec])\n",
    "\n",
    "    dt_ma_values = test_dt_ma[(test_dt_ma['step']==bestEpoch) & (test_dt_ma['key'].str.contains(pattern_ma))][['key','value']]\n",
    "    dt_f1_values = test_dt_f1[(test_dt_f1['step']==bestEpoch) & (test_dt_f1['key'].str.contains(pattern_f1))][['key','value']]\n",
    "    dt_acc_values = test_dt_acc[(test_dt_acc['step']==bestEpoch) & (test_dt_acc['key'].str.contains(pattern_acc))][['key','value']]\n",
    "    dt_prec_values = test_dt_prec[(test_dt_prec['step']==bestEpoch) & (test_dt_prec['key'].str.contains(pattern_prec))][['key','value']]\n",
    "\n",
    "    values_representation = list(test_dt[attributes].sum())\n",
    "    # values representation is aligned with:\n",
    "    #metrics_attributes_ma\n",
    "    #metrics_attributes_f1\n",
    "    #metrics_attributes_prec\n",
    "    #metrics_attributes_acc\n",
    "\n",
    "    values_representation_ma = [ values_representation[metrics_attributes_ma.index(key)] for key in dt_ma_values['key'].unique()]\n",
    "    values_representation_f1 = [ values_representation[metrics_attributes_f1.index(key)] for key in dt_f1_values['key'].unique()]\n",
    "    values_representation_prec = [ values_representation[metrics_attributes_prec.index(key)] for key in dt_prec_values['key'].unique()]\n",
    "    values_representation_acc = [ values_representation[metrics_attributes_acc.index(key)] for key in dt_acc_values['key'].unique()]\n",
    "\n",
    "    dt_ma_values['representation'] = values_representation_ma\n",
    "    dt_f1_values['representation'] = values_representation_f1\n",
    "    dt_prec_values['representation'] = values_representation_prec\n",
    "    dt_acc_values['representation'] = values_representation_acc\n",
    "\n",
    "    dt_ma_values['value'] = pd.to_numeric(dt_ma_values['value'])\n",
    "    dt_f1_values['value'] = pd.to_numeric(dt_f1_values['value'])\n",
    "    dt_prec_values['value'] = pd.to_numeric(dt_prec_values['value'])\n",
    "    dt_acc_values['value'] = pd.to_numeric(dt_acc_values['value'])\n",
    "\n",
    "    print(\"Corr ma: \")\n",
    "    print(dt_ma_values['value'].corr(dt_ma_values['representation']))\n",
    "\n",
    "    print(\"Corr f1: \")\n",
    "    print(dt_f1_values['value'].corr(dt_f1_values['representation']))\n",
    "\n",
    "    print(\"Corr prec: \")\n",
    "    print(dt_prec_values['value'].corr(dt_prec_values['representation']))\n",
    "\n",
    "    print(\"Corr acc: \")\n",
    "    print(dt_acc_values['value'].corr(dt_acc_values['representation']))"
   ]
  },
  {
   "cell_type": "code",
   "execution_count": 75,
   "metadata": {},
   "outputs": [],
   "source": [
    "def getTestingWithTrainingRepresentationCorrelation(test_dt,test_dt_ma,test_dt_f1,test_dt_acc,test_dt_prec,attributes):\n",
    "    notColumn = 'Unnamed: 0'\n",
    "    #attributes = list(test_dt.columns)\n",
    "    #attributes.remove(notColumn)\n",
    "\n",
    "    seed='605'\n",
    "    bestEpoch = 8\n",
    "\n",
    "    metrics_attributes_ma = [attribute + '_ma_' + seed for attribute in attributes]\n",
    "    metrics_attributes_f1 =  [attribute + '_label_f1_' + seed for attribute in attributes]\n",
    "    metrics_attributes_acc = [attribute + '_label_acc_' + seed for attribute in attributes]\n",
    "    metrics_attributes_prec = [attribute + '_label_prec_' + seed for attribute in attributes]\n",
    "\n",
    "    print(len(metrics_attributes_ma))\n",
    "\n",
    "    pattern_ma = '|'.join([f'(?i){attribute}' for attribute in metrics_attributes_ma])\n",
    "    pattern_f1 = '|'.join([f'(?i){attribute}' for attribute in metrics_attributes_f1])\n",
    "    pattern_acc = '|'.join([f'(?i){attribute}' for attribute in metrics_attributes_acc])\n",
    "    pattern_prec = '|'.join([f'(?i){attribute}' for attribute in metrics_attributes_prec])\n",
    "\n",
    "    test_dt_ma.sort_values('key',inplace=True)\n",
    "    test_dt_f1.sort_values('key',inplace=True)\n",
    "    test_dt_acc.sort_values('key',inplace=True)\n",
    "    test_dt_prec.sort_values('key',inplace=True)\n",
    "\n",
    "    dt_ma_values = test_dt_ma[(test_dt_ma['step']==bestEpoch) & (test_dt_ma['key'].str.contains(pattern_ma))][['key','value']]\n",
    "    dt_f1_values = test_dt_f1[(test_dt_f1['step']==bestEpoch) & (test_dt_f1['key'].str.contains(pattern_f1))][['key','value']]\n",
    "    dt_acc_values = test_dt_acc[(test_dt_acc['step']==bestEpoch) & (test_dt_acc['key'].str.contains(pattern_acc))][['key','value']]\n",
    "    dt_prec_values = test_dt_prec[(test_dt_prec['step']==bestEpoch) & (test_dt_prec['key'].str.contains(pattern_prec))][['key','value']]\n",
    "    \n",
    "    print(len(dt_ma_values))\n",
    "    print(len(attributes))\n",
    "\n",
    "    metrics_attributes_ma=sorted(metrics_attributes_ma)\n",
    "    metrics_attributes_f1=sorted(metrics_attributes_f1)\n",
    "    metrics_attributes_acc=sorted(metrics_attributes_acc)\n",
    "    metrics_attributes_prec=sorted(metrics_attributes_prec)\n",
    "\n",
    "    attributes2=attributes\n",
    "    attributes2 =sorted(attributes2)\n",
    "\n",
    "    values_representation = list(test_dt[attributes2].sum())\n",
    "    # values representation is aligned with:\n",
    "    #metrics_attributes_ma\n",
    "    #metrics_attributes_f1\n",
    "    #metrics_attributes_prec\n",
    "    #metrics_attributes_acc\n",
    "\n",
    "    values_representation_ma = [ values_representation[i] for i in range(0,len(attributes))]\n",
    "    values_representation_f1 = [ values_representation[i] for i in range(0,len(attributes))]\n",
    "    values_representation_prec = [ values_representation[i] for i in range(0,len(attributes))]\n",
    "    values_representation_acc = [ values_representation[i] for i in range(0,len(attributes))]\n",
    "\n",
    "    print(len(values_representation_ma))\n",
    "\n",
    "    dt_ma_values['representation'] = values_representation_ma\n",
    "    dt_f1_values['representation'] = values_representation_f1\n",
    "    dt_prec_values['representation'] = values_representation_prec\n",
    "    dt_acc_values['representation'] = values_representation_acc\n",
    "\n",
    "    dt_ma_values['value'] = pd.to_numeric(dt_ma_values['value'])\n",
    "    dt_f1_values['value'] = pd.to_numeric(dt_f1_values['value'])\n",
    "    dt_prec_values['value'] = pd.to_numeric(dt_prec_values['value'])\n",
    "    dt_acc_values['value'] = pd.to_numeric(dt_acc_values['value'])\n",
    "\n",
    "    print(\"Corr ma: \")\n",
    "    print(dt_ma_values['value'].corr(dt_ma_values['representation']))\n",
    "\n",
    "    print(\"Corr f1: \")\n",
    "    print(dt_f1_values['value'].corr(dt_f1_values['representation']))\n",
    "\n",
    "    print(\"Corr prec: \")\n",
    "    print(dt_prec_values['value'].corr(dt_prec_values['representation']))\n",
    "\n",
    "    print(\"Corr acc: \")\n",
    "    print(dt_acc_values['value'].corr(dt_acc_values['representation']))"
   ]
  },
  {
   "cell_type": "code",
   "execution_count": 76,
   "metadata": {},
   "outputs": [
    {
     "data": {
      "text/plain": [
       "53"
      ]
     },
     "execution_count": 76,
     "metadata": {},
     "output_type": "execute_result"
    }
   ],
   "source": [
    "listAttributesRAPv2 = ['hs-BaldHead', 'hs-LongHair', 'hs-BlackHair', 'hs-Hat', 'hs-Glasses','ub-Shirt','ub-Sweater','ub-Vest','ub-TShirt','ub-Cotton','ub-Jacket','ub-SuitUp','ub-Tight','ub-ShortSleeve','ub-Others','lb-LongTrousers','lb-Skirt','lb-ShortSkirt','lb-Dress','lb-Jeans','lb-TightTrousers','shoes-Leather', 'shoes-Sports', 'shoes-Boots', 'shoes-Cloth', 'shoes-Casual', 'shoes-Other','attachment-Backpack','attachment-ShoulderBag','attachment-HandBag','attachment-Box','attachment-PlasticBag','attachment-PaperBag','attachment-HandTrunk','attachment-Other','AgeLess16', 'Age17-30', 'Age31-45', 'Age46-60','Femal','BodyFat','BodyNormal','BodyThin','Customer','Employee','action-Calling','action-Talking','action-Gathering','action-Holding','action-Pushing','action-Pulling','action-CarryingByArm','action-CarryingByHand','action-Other']\n",
    "listAttributesRAPzs = listAttributesRAPv2\n",
    "listAttributesRAPzs.remove('Age46-60')\n",
    "len(listAttributesRAPzs)"
   ]
  },
  {
   "cell_type": "code",
   "execution_count": 77,
   "metadata": {},
   "outputs": [
    {
     "name": "stdout",
     "output_type": "stream",
     "text": [
      "53\n",
      "52\n",
      "53\n",
      "53\n"
     ]
    },
    {
     "ename": "ValueError",
     "evalue": "Length of values (53) does not match length of index (52)",
     "output_type": "error",
     "traceback": [
      "\u001b[0;31m---------------------------------------------------------------------------\u001b[0m",
      "\u001b[0;31mValueError\u001b[0m                                Traceback (most recent call last)",
      "\u001b[0;32m/tmp/ipykernel_26968/3403164536.py\u001b[0m in \u001b[0;36m<module>\u001b[0;34m\u001b[0m\n\u001b[0;32m----> 1\u001b[0;31m \u001b[0mgetTestingWithTrainingRepresentationCorrelation\u001b[0m\u001b[0;34m(\u001b[0m\u001b[0mtrain_dt\u001b[0m\u001b[0;34m,\u001b[0m\u001b[0mtest_dt_ma\u001b[0m\u001b[0;34m,\u001b[0m\u001b[0mtest_dt_f1\u001b[0m\u001b[0;34m,\u001b[0m\u001b[0mtest_dt_acc\u001b[0m\u001b[0;34m,\u001b[0m\u001b[0mtest_dt_prec\u001b[0m\u001b[0;34m,\u001b[0m\u001b[0mlistAttributesRAPzs\u001b[0m\u001b[0;34m)\u001b[0m\u001b[0;34m\u001b[0m\u001b[0m\n\u001b[0m",
      "\u001b[0;32m/tmp/ipykernel_26968/1625950067.py\u001b[0m in \u001b[0;36mgetTestingWithTrainingRepresentationCorrelation\u001b[0;34m(test_dt, test_dt_ma, test_dt_f1, test_dt_acc, test_dt_prec, attributes)\u001b[0m\n\u001b[1;32m     54\u001b[0m     \u001b[0mprint\u001b[0m\u001b[0;34m(\u001b[0m\u001b[0mlen\u001b[0m\u001b[0;34m(\u001b[0m\u001b[0mvalues_representation_ma\u001b[0m\u001b[0;34m)\u001b[0m\u001b[0;34m)\u001b[0m\u001b[0;34m\u001b[0m\u001b[0m\n\u001b[1;32m     55\u001b[0m \u001b[0;34m\u001b[0m\u001b[0m\n\u001b[0;32m---> 56\u001b[0;31m     \u001b[0mdt_ma_values\u001b[0m\u001b[0;34m[\u001b[0m\u001b[0;34m'representation'\u001b[0m\u001b[0;34m]\u001b[0m \u001b[0;34m=\u001b[0m \u001b[0mvalues_representation_ma\u001b[0m\u001b[0;34m\u001b[0m\u001b[0m\n\u001b[0m\u001b[1;32m     57\u001b[0m     \u001b[0mdt_f1_values\u001b[0m\u001b[0;34m[\u001b[0m\u001b[0;34m'representation'\u001b[0m\u001b[0;34m]\u001b[0m \u001b[0;34m=\u001b[0m \u001b[0mvalues_representation_f1\u001b[0m\u001b[0;34m\u001b[0m\u001b[0m\n\u001b[1;32m     58\u001b[0m     \u001b[0mdt_prec_values\u001b[0m\u001b[0;34m[\u001b[0m\u001b[0;34m'representation'\u001b[0m\u001b[0;34m]\u001b[0m \u001b[0;34m=\u001b[0m \u001b[0mvalues_representation_prec\u001b[0m\u001b[0;34m\u001b[0m\u001b[0m\n",
      "\u001b[0;32m~/.conda/envs/rethinking/lib/python3.7/site-packages/pandas/core/frame.py\u001b[0m in \u001b[0;36m__setitem__\u001b[0;34m(self, key, value)\u001b[0m\n\u001b[1;32m   3042\u001b[0m         \u001b[0;32melse\u001b[0m\u001b[0;34m:\u001b[0m\u001b[0;34m\u001b[0m\u001b[0m\n\u001b[1;32m   3043\u001b[0m             \u001b[0;31m# set column\u001b[0m\u001b[0;34m\u001b[0m\u001b[0;34m\u001b[0m\u001b[0m\n\u001b[0;32m-> 3044\u001b[0;31m             \u001b[0mself\u001b[0m\u001b[0;34m.\u001b[0m\u001b[0m_set_item\u001b[0m\u001b[0;34m(\u001b[0m\u001b[0mkey\u001b[0m\u001b[0;34m,\u001b[0m \u001b[0mvalue\u001b[0m\u001b[0;34m)\u001b[0m\u001b[0;34m\u001b[0m\u001b[0m\n\u001b[0m\u001b[1;32m   3045\u001b[0m \u001b[0;34m\u001b[0m\u001b[0m\n\u001b[1;32m   3046\u001b[0m     \u001b[0;32mdef\u001b[0m \u001b[0m_setitem_slice\u001b[0m\u001b[0;34m(\u001b[0m\u001b[0mself\u001b[0m\u001b[0;34m,\u001b[0m \u001b[0mkey\u001b[0m\u001b[0;34m:\u001b[0m \u001b[0mslice\u001b[0m\u001b[0;34m,\u001b[0m \u001b[0mvalue\u001b[0m\u001b[0;34m)\u001b[0m\u001b[0;34m:\u001b[0m\u001b[0;34m\u001b[0m\u001b[0m\n",
      "\u001b[0;32m~/.conda/envs/rethinking/lib/python3.7/site-packages/pandas/core/frame.py\u001b[0m in \u001b[0;36m_set_item\u001b[0;34m(self, key, value)\u001b[0m\n\u001b[1;32m   3118\u001b[0m         \"\"\"\n\u001b[1;32m   3119\u001b[0m         \u001b[0mself\u001b[0m\u001b[0;34m.\u001b[0m\u001b[0m_ensure_valid_index\u001b[0m\u001b[0;34m(\u001b[0m\u001b[0mvalue\u001b[0m\u001b[0;34m)\u001b[0m\u001b[0;34m\u001b[0m\u001b[0m\n\u001b[0;32m-> 3120\u001b[0;31m         \u001b[0mvalue\u001b[0m \u001b[0;34m=\u001b[0m \u001b[0mself\u001b[0m\u001b[0;34m.\u001b[0m\u001b[0m_sanitize_column\u001b[0m\u001b[0;34m(\u001b[0m\u001b[0mkey\u001b[0m\u001b[0;34m,\u001b[0m \u001b[0mvalue\u001b[0m\u001b[0;34m)\u001b[0m\u001b[0;34m\u001b[0m\u001b[0m\n\u001b[0m\u001b[1;32m   3121\u001b[0m         \u001b[0mNDFrame\u001b[0m\u001b[0;34m.\u001b[0m\u001b[0m_set_item\u001b[0m\u001b[0;34m(\u001b[0m\u001b[0mself\u001b[0m\u001b[0;34m,\u001b[0m \u001b[0mkey\u001b[0m\u001b[0;34m,\u001b[0m \u001b[0mvalue\u001b[0m\u001b[0;34m)\u001b[0m\u001b[0;34m\u001b[0m\u001b[0m\n\u001b[1;32m   3122\u001b[0m \u001b[0;34m\u001b[0m\u001b[0m\n",
      "\u001b[0;32m~/.conda/envs/rethinking/lib/python3.7/site-packages/pandas/core/frame.py\u001b[0m in \u001b[0;36m_sanitize_column\u001b[0;34m(self, key, value, broadcast)\u001b[0m\n\u001b[1;32m   3766\u001b[0m \u001b[0;34m\u001b[0m\u001b[0m\n\u001b[1;32m   3767\u001b[0m             \u001b[0;31m# turn me into an ndarray\u001b[0m\u001b[0;34m\u001b[0m\u001b[0;34m\u001b[0m\u001b[0m\n\u001b[0;32m-> 3768\u001b[0;31m             \u001b[0mvalue\u001b[0m \u001b[0;34m=\u001b[0m \u001b[0msanitize_index\u001b[0m\u001b[0;34m(\u001b[0m\u001b[0mvalue\u001b[0m\u001b[0;34m,\u001b[0m \u001b[0mself\u001b[0m\u001b[0;34m.\u001b[0m\u001b[0mindex\u001b[0m\u001b[0;34m)\u001b[0m\u001b[0;34m\u001b[0m\u001b[0m\n\u001b[0m\u001b[1;32m   3769\u001b[0m             \u001b[0;32mif\u001b[0m \u001b[0;32mnot\u001b[0m \u001b[0misinstance\u001b[0m\u001b[0;34m(\u001b[0m\u001b[0mvalue\u001b[0m\u001b[0;34m,\u001b[0m \u001b[0;34m(\u001b[0m\u001b[0mnp\u001b[0m\u001b[0;34m.\u001b[0m\u001b[0mndarray\u001b[0m\u001b[0;34m,\u001b[0m \u001b[0mIndex\u001b[0m\u001b[0;34m)\u001b[0m\u001b[0;34m)\u001b[0m\u001b[0;34m:\u001b[0m\u001b[0;34m\u001b[0m\u001b[0m\n\u001b[1;32m   3770\u001b[0m                 \u001b[0;32mif\u001b[0m \u001b[0misinstance\u001b[0m\u001b[0;34m(\u001b[0m\u001b[0mvalue\u001b[0m\u001b[0;34m,\u001b[0m \u001b[0mlist\u001b[0m\u001b[0;34m)\u001b[0m \u001b[0;32mand\u001b[0m \u001b[0mlen\u001b[0m\u001b[0;34m(\u001b[0m\u001b[0mvalue\u001b[0m\u001b[0;34m)\u001b[0m \u001b[0;34m>\u001b[0m \u001b[0;36m0\u001b[0m\u001b[0;34m:\u001b[0m\u001b[0;34m\u001b[0m\u001b[0m\n",
      "\u001b[0;32m~/.conda/envs/rethinking/lib/python3.7/site-packages/pandas/core/internals/construction.py\u001b[0m in \u001b[0;36msanitize_index\u001b[0;34m(data, index)\u001b[0m\n\u001b[1;32m    746\u001b[0m     \u001b[0;32mif\u001b[0m \u001b[0mlen\u001b[0m\u001b[0;34m(\u001b[0m\u001b[0mdata\u001b[0m\u001b[0;34m)\u001b[0m \u001b[0;34m!=\u001b[0m \u001b[0mlen\u001b[0m\u001b[0;34m(\u001b[0m\u001b[0mindex\u001b[0m\u001b[0;34m)\u001b[0m\u001b[0;34m:\u001b[0m\u001b[0;34m\u001b[0m\u001b[0m\n\u001b[1;32m    747\u001b[0m         raise ValueError(\n\u001b[0;32m--> 748\u001b[0;31m             \u001b[0;34m\"Length of values \"\u001b[0m\u001b[0;34m\u001b[0m\u001b[0m\n\u001b[0m\u001b[1;32m    749\u001b[0m             \u001b[0;34mf\"({len(data)}) \"\u001b[0m\u001b[0;34m\u001b[0m\u001b[0m\n\u001b[1;32m    750\u001b[0m             \u001b[0;34m\"does not match length of index \"\u001b[0m\u001b[0;34m\u001b[0m\u001b[0m\n",
      "\u001b[0;31mValueError\u001b[0m: Length of values (53) does not match length of index (52)"
     ]
    }
   ],
   "source": [
    "getTestingWithTrainingRepresentationCorrelation(train_dt,test_dt_ma,test_dt_f1,test_dt_acc,test_dt_prec,listAttributesRAPzs)"
   ]
  },
  {
   "cell_type": "code",
   "execution_count": null,
   "metadata": {},
   "outputs": [],
   "source": []
  }
 ],
 "metadata": {
  "kernelspec": {
   "display_name": "rethinking",
   "language": "python",
   "name": "python3"
  },
  "language_info": {
   "codemirror_mode": {
    "name": "ipython",
    "version": 3
   },
   "file_extension": ".py",
   "mimetype": "text/x-python",
   "name": "python",
   "nbconvert_exporter": "python",
   "pygments_lexer": "ipython3",
   "version": "3.7.0"
  }
 },
 "nbformat": 4,
 "nbformat_minor": 2
}
