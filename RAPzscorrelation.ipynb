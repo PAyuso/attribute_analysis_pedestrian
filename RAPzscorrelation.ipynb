{
 "cells": [
  {
   "cell_type": "code",
   "execution_count": 6,
   "metadata": {},
   "outputs": [],
   "source": [
    "import scipy.io\n",
    "import pandas as pd\n",
    "import matplotlib.pyplot as plt\n",
    "import easydict\n",
    "import pickle"
   ]
  },
  {
   "cell_type": "code",
   "execution_count": 7,
   "metadata": {},
   "outputs": [],
   "source": [
    "pathToAppearsTest = '/mnt/rhome/paa/pedestrian/attribute_analysis_pedestrian/attribute_analysis_pedestrian/RAPv2/RAPv2_test0.csv'\n",
    "pathToAppearsVal = '/mnt/rhome/paa/pedestrian/attribute_analysis_pedestrian/attribute_analysis_pedestrian/RAPv2/RAPv2_val0.csv'\n",
    "pathToAppearsTrain = '/mnt/rhome/paa/pedestrian/attribute_analysis_pedestrian/attribute_analysis_pedestrian/RAPv2/RAPv2_train0.csv'\n",
    "\n",
    "pathToMaTest = '/mnt/rhome/paa/pedestrian/attribute_analysis_pedestrian/attribute_analysis_pedestrian/RAPzs/RAPzs_testing_ma.csv'\n",
    "pathToF1Test = '/mnt/rhome/paa/pedestrian/attribute_analysis_pedestrian/attribute_analysis_pedestrian/RAPzs/RAPzs_testing_f1.csv'\n",
    "pathToAccTest = '/mnt/rhome/paa/pedestrian/attribute_analysis_pedestrian/attribute_analysis_pedestrian/RAPzs/RAPzs_testing_acc.csv'\n",
    "pathToPrecTest = '/mnt/rhome/paa/pedestrian/attribute_analysis_pedestrian/attribute_analysis_pedestrian/RAPzs/RAPzs_testing_prec.csv'\n",
    "\n",
    "pathToMaTraining= '/mnt/rhome/paa/pedestrian/attribute_analysis_pedestrian/attribute_analysis_pedestrian/RAPzs/RAPzs_training_ma.csv'\n",
    "pathToF1Training = '/mnt/rhome/paa/pedestrian/attribute_analysis_pedestrian/attribute_analysis_pedestrian/RAPzs/RAPzs_training_f1.csv'\n",
    "pathToAccTraining = '/mnt/rhome/paa/pedestrian/attribute_analysis_pedestrian/attribute_analysis_pedestrian/RAPzs/RAPzs_training_acc.csv'\n",
    "pathToPrecTraining = '/mnt/rhome/paa/pedestrian/attribute_analysis_pedestrian/attribute_analysis_pedestrian/RAPzs/RAPzs_training_prec.csv'"
   ]
  },
  {
   "cell_type": "code",
   "execution_count": 8,
   "metadata": {},
   "outputs": [],
   "source": [
    "test_dt = pd.read_csv(pathToAppearsTest, sep='\\t', index_col=False)\n",
    "test_dt_ma = pd.read_csv(pathToMaTest, sep=',', index_col=False)\n",
    "test_dt_f1 = pd.read_csv(pathToF1Test, sep=',', index_col=False)\n",
    "test_dt_acc = pd.read_csv(pathToAccTest, sep=',', index_col=False)\n",
    "test_dt_prec = pd.read_csv(pathToPrecTest, sep=',', index_col=False)"
   ]
  },
  {
   "cell_type": "code",
   "execution_count": 9,
   "metadata": {},
   "outputs": [],
   "source": [
    "listAttributesRAPv2 = ['hs-BaldHead', 'hs-LongHair', 'hs-BlackHair', 'hs-Hat', 'hs-Glasses','ub-Shirt','ub-Sweater','ub-Vest','ub-TShirt','ub-Cotton','ub-Jacket','ub-SuitUp','ub-Tight','ub-ShortSleeve','ub-Others','lb-LongTrousers','lb-Skirt','lb-ShortSkirt','lb-Dress','lb-Jeans','lb-TightTrousers','shoes-Leather', 'shoes-Sports', 'shoes-Boots', 'shoes-Cloth', 'shoes-Casual', 'shoes-Other','attachment-Backpack','attachment-ShoulderBag','attachment-HandBag','attachment-Box','attachment-PlasticBag','attachment-PaperBag','attachment-HandTrunk','attachment-Other','AgeLess16', 'Age17-30', 'Age31-45', 'Age46-60','Female','BodyFat','BodyNormal','BodyThin','Customer','Employee','action-Calling','action-Talking','action-Gathering','action-Holding','action-Pushing','action-Pulling','action-CarryingByArm','action-CarryingByHand','action-Other']\n",
    "listAttributesRAPzs = listAttributesRAPv2"
   ]
  },
  {
   "cell_type": "code",
   "execution_count": 16,
   "metadata": {},
   "outputs": [],
   "source": [
    "def getTestingCorrelation(test_dt,test_dt_ma,test_dt_f1,test_dt_acc,test_dt_prec, listAttributesRAPzs):\n",
    "    #notColumn = 'Unnamed: 0'\n",
    "    #attributes = list(test_dt.columns)\n",
    "    #attributes.remove(notColumn)\n",
    "    attributes = listAttributesRAPzs\n",
    "    seed='605'\n",
    "    bestEpoch = 11\n",
    "\n",
    "    metrics_attributes_ma = [ 'testing_' + 'SkirtDress'+ '_ma_' + seed if attribute == 'Skirt&Dress' else 'testing_' + attribute + '_ma_' + seed for attribute in attributes]\n",
    "    metrics_attributes_f1 = [ 'testing_' + 'SkirtDress'+ '_label_f1_' + seed if attribute == 'Skirt&Dress' else 'testing_' + attribute + '_label_f1_' + seed for attribute in attributes]\n",
    "    metrics_attributes_acc = [ 'testing_' + 'SkirtDress'+ '_label_acc_' + seed if attribute == 'Skirt&Dress' else 'testing_' + attribute + '_label_acc_' + seed for attribute in attributes]\n",
    "    metrics_attributes_prec = [ 'testing_' + 'SkirtDress'+ '_label_prec_' + seed if attribute == 'Skirt&Dress' else 'testing_' + attribute + '_label_prec_' + seed for attribute in attributes]\n",
    "\n",
    "\n",
    "    pattern_ma = '|'.join([f'(?i){attribute}' for attribute in metrics_attributes_ma])\n",
    "    pattern_f1 = '|'.join([f'(?i){attribute}' for attribute in metrics_attributes_f1])\n",
    "    pattern_acc = '|'.join([f'(?i){attribute}' for attribute in metrics_attributes_acc])\n",
    "    pattern_prec = '|'.join([f'(?i){attribute}' for attribute in metrics_attributes_prec])\n",
    "\n",
    "    dt_ma_values = test_dt_ma[(test_dt_ma['step']==bestEpoch) & (test_dt_ma['key'].str.contains(pattern_ma))][['key','value']]\n",
    "    dt_f1_values = test_dt_f1[(test_dt_f1['step']==bestEpoch) & (test_dt_f1['key'].str.contains(pattern_f1))][['key','value']]\n",
    "    dt_acc_values = test_dt_acc[(test_dt_acc['step']==bestEpoch) & (test_dt_acc['key'].str.contains(pattern_acc))][['key','value']]\n",
    "    dt_prec_values = test_dt_prec[(test_dt_prec['step']==bestEpoch) & (test_dt_prec['key'].str.contains(pattern_prec))][['key','value']]\n",
    "\n",
    "\n",
    "    fileRAPzs = '/mnt/rhome/paa/pedestrian/Rethinking_of_PAR/data/RAP2/dataset_zs_run0.pkl'\n",
    "\n",
    "    f = open(fileRAPzs, 'rb+')\n",
    "\n",
    "    dataset = pickle.load(f)\n",
    "\n",
    "    maxAttributes = len(listAttributesRAPzs)\n",
    "    listTrainingCount = dataset.label[dataset.partition.train][:,:maxAttributes].sum(axis=0).tolist()\n",
    "    listTestingCount = dataset.label[dataset.partition.test][:,:maxAttributes].sum(axis=0).tolist()\n",
    "\n",
    "    values_representation = listTestingCount\n",
    "\n",
    "    # values representation is aligned with:\n",
    "    #metrics_attributes_ma\n",
    "    #metrics_attributes_f1\n",
    "    #metrics_attributes_prec\n",
    "    #metrics_attributes_acc\n",
    "\n",
    "    \n",
    "    values_representation_ma = [ values_representation[metrics_attributes_ma.index(key)] for key in dt_ma_values['key'].unique()]\n",
    "    values_representation_f1 = [ values_representation[metrics_attributes_f1.index(key)] for key in dt_f1_values['key'].unique()]\n",
    "    values_representation_prec = [ values_representation[metrics_attributes_prec.index(key)] for key in dt_prec_values['key'].unique()]\n",
    "    values_representation_acc = [ values_representation[metrics_attributes_acc.index(key)] for key in dt_acc_values['key'].unique()]\n",
    "\n",
    "    dt_ma_values['representation'] = values_representation_ma\n",
    "    dt_f1_values['representation'] = values_representation_f1\n",
    "    dt_prec_values['representation'] = values_representation_prec\n",
    "    dt_acc_values['representation'] = values_representation_acc\n",
    "\n",
    "    dt_ma_values['value'] = pd.to_numeric(dt_ma_values['value'])\n",
    "    dt_f1_values['value'] = pd.to_numeric(dt_f1_values['value'])\n",
    "    dt_prec_values['value'] = pd.to_numeric(dt_prec_values['value'])\n",
    "    dt_acc_values['value'] = pd.to_numeric(dt_acc_values['value'])\n",
    "\n",
    "    print(\"Corr ma: \")\n",
    "    print(dt_ma_values['value'].corr(dt_ma_values['representation']))\n",
    "\n",
    "    print(\"Corr f1: \")\n",
    "    print(dt_f1_values['value'].corr(dt_f1_values['representation']))\n",
    "\n",
    "    print(\"Corr prec: \")\n",
    "    print(dt_prec_values['value'].corr(dt_prec_values['representation']))\n",
    "\n",
    "    print(\"Corr acc: \")\n",
    "    print(dt_acc_values['value'].corr(dt_acc_values['representation']))"
   ]
  },
  {
   "cell_type": "code",
   "execution_count": 21,
   "metadata": {},
   "outputs": [],
   "source": [
    "def getTrainingCorrelation(test_dt,test_dt_ma,test_dt_f1,test_dt_acc,test_dt_prec, listAttributesRAPzs):\n",
    "    #notColumn = 'Unnamed: 0'\n",
    "    #attributes = list(test_dt.columns)\n",
    "    #attributes.remove(notColumn)\n",
    "    attributes = listAttributesRAPzs\n",
    "    seed='605'\n",
    "    bestEpoch = 11\n",
    "\n",
    "    metrics_attributes_ma = [ 'training_' + 'SkirtDress'+ '_ma_' + seed if attribute == 'Skirt&Dress' else 'training_' + attribute + '_ma_' + seed for attribute in attributes]\n",
    "    metrics_attributes_f1 = [ 'training_' + 'SkirtDress'+ '_label_f1_' + seed if attribute == 'Skirt&Dress' else 'training_' + attribute + '_label_f1_' + seed for attribute in attributes]\n",
    "    metrics_attributes_acc = [ 'training_' + 'SkirtDress'+ '_label_acc_' + seed if attribute == 'Skirt&Dress' else 'training_' + attribute + '_label_acc_' + seed for attribute in attributes]\n",
    "    metrics_attributes_prec = [ 'training_' + 'SkirtDress'+ '_label_prec_' + seed if attribute == 'Skirt&Dress' else 'training_' + attribute + '_label_prec_' + seed for attribute in attributes]\n",
    "\n",
    "\n",
    "    pattern_ma = '|'.join([f'(?i){attribute}' for attribute in metrics_attributes_ma])\n",
    "    pattern_f1 = '|'.join([f'(?i){attribute}' for attribute in metrics_attributes_f1])\n",
    "    pattern_acc = '|'.join([f'(?i){attribute}' for attribute in metrics_attributes_acc])\n",
    "    pattern_prec = '|'.join([f'(?i){attribute}' for attribute in metrics_attributes_prec])\n",
    "\n",
    "    dt_ma_values = test_dt_ma[(test_dt_ma['step']==bestEpoch) & (test_dt_ma['key'].str.contains(pattern_ma))][['key','value']]\n",
    "    dt_f1_values = test_dt_f1[(test_dt_f1['step']==bestEpoch) & (test_dt_f1['key'].str.contains(pattern_f1))][['key','value']]\n",
    "    dt_acc_values = test_dt_acc[(test_dt_acc['step']==bestEpoch) & (test_dt_acc['key'].str.contains(pattern_acc))][['key','value']]\n",
    "    dt_prec_values = test_dt_prec[(test_dt_prec['step']==bestEpoch) & (test_dt_prec['key'].str.contains(pattern_prec))][['key','value']]\n",
    "\n",
    "\n",
    "\n",
    "    fileRAPzs = '/mnt/rhome/paa/pedestrian/Rethinking_of_PAR/data/RAP2/dataset_zs_run0.pkl'\n",
    "\n",
    "    f = open(fileRAPzs, 'rb+')\n",
    "\n",
    "    dataset = pickle.load(f)\n",
    "\n",
    "    maxAttributes = len(listAttributesRAPzs)\n",
    "    listTrainingCount = dataset.label[dataset.partition.train][:,:maxAttributes].sum(axis=0).tolist()\n",
    "    listTestingCount = dataset.label[dataset.partition.test][:,:maxAttributes].sum(axis=0).tolist()\n",
    "\n",
    "    values_representation = listTrainingCount\n",
    "    \n",
    "\n",
    "    # values representation is aligned with:\n",
    "    #metrics_attributes_ma\n",
    "    #metrics_attributes_f1\n",
    "    #metrics_attributes_prec\n",
    "    #metrics_attributes_acc\n",
    "\n",
    "    values_representation_ma = [ values_representation[metrics_attributes_ma.index(key)] for key in dt_ma_values['key'].unique()]\n",
    "    values_representation_f1 = [ values_representation[metrics_attributes_f1.index(key)] for key in dt_f1_values['key'].unique()]\n",
    "    values_representation_prec = [ values_representation[metrics_attributes_prec.index(key)] for key in dt_prec_values['key'].unique()]\n",
    "    values_representation_acc = [ values_representation[metrics_attributes_acc.index(key)] for key in dt_acc_values['key'].unique()]\n",
    "\n",
    "    dt_ma_values['representation'] = values_representation_ma\n",
    "    dt_f1_values['representation'] = values_representation_f1\n",
    "    dt_prec_values['representation'] = values_representation_prec\n",
    "    dt_acc_values['representation'] = values_representation_acc\n",
    "\n",
    "    dt_ma_values['value'] = pd.to_numeric(dt_ma_values['value'])\n",
    "    dt_f1_values['value'] = pd.to_numeric(dt_f1_values['value'])\n",
    "    dt_prec_values['value'] = pd.to_numeric(dt_prec_values['value'])\n",
    "    dt_acc_values['value'] = pd.to_numeric(dt_acc_values['value'])\n",
    "\n",
    "    print(\"Corr ma: \")\n",
    "    print(dt_ma_values['value'].corr(dt_ma_values['representation']))\n",
    "\n",
    "    print(\"Corr f1: \")\n",
    "    print(dt_f1_values['value'].corr(dt_f1_values['representation']))\n",
    "\n",
    "    print(\"Corr prec: \")\n",
    "    print(dt_prec_values['value'].corr(dt_prec_values['representation']))\n",
    "\n",
    "    print(\"Corr acc: \")\n",
    "    print(dt_acc_values['value'].corr(dt_acc_values['representation']))"
   ]
  },
  {
   "cell_type": "code",
   "execution_count": 22,
   "metadata": {},
   "outputs": [
    {
     "name": "stdout",
     "output_type": "stream",
     "text": [
      "Corr ma: \n",
      "0.25780755363502555\n",
      "Corr f1: \n",
      "0.5884245402221184\n",
      "Corr prec: \n",
      "0.4506874031953237\n",
      "Corr acc: \n",
      "0.6725837900518301\n"
     ]
    }
   ],
   "source": [
    "getTestingCorrelation(test_dt,test_dt_ma,test_dt_f1,test_dt_acc,test_dt_prec, listAttributesRAPzs)"
   ]
  },
  {
   "cell_type": "code",
   "execution_count": 23,
   "metadata": {},
   "outputs": [],
   "source": [
    "train_dt = pd.read_csv(pathToAppearsTrain, sep='\\t', index_col=False)\n",
    "train_dt_ma = pd.read_csv(pathToMaTraining, sep=',', index_col=False)\n",
    "train_dt_f1 = pd.read_csv(pathToF1Training, sep=',', index_col=False)\n",
    "train_dt_acc = pd.read_csv(pathToAccTraining, sep=',', index_col=False)\n",
    "train_dt_prec = pd.read_csv(pathToPrecTraining, sep=',', index_col=False)"
   ]
  },
  {
   "cell_type": "code",
   "execution_count": 24,
   "metadata": {},
   "outputs": [
    {
     "name": "stdout",
     "output_type": "stream",
     "text": [
      "Corr ma: \n",
      "0.211777534202323\n",
      "Corr f1: \n",
      "0.33454892861479324\n",
      "Corr prec: \n",
      "0.30399300731882734\n",
      "Corr acc: \n",
      "0.4047616731541214\n"
     ]
    }
   ],
   "source": [
    "getTrainingCorrelation(train_dt, train_dt_ma, train_dt_f1, train_dt_acc, train_dt_prec, listAttributesRAPzs)"
   ]
  },
  {
   "cell_type": "code",
   "execution_count": null,
   "metadata": {},
   "outputs": [],
   "source": []
  }
 ],
 "metadata": {
  "kernelspec": {
   "display_name": "rethinking",
   "language": "python",
   "name": "python3"
  },
  "language_info": {
   "codemirror_mode": {
    "name": "ipython",
    "version": 3
   },
   "file_extension": ".py",
   "mimetype": "text/x-python",
   "name": "python",
   "nbconvert_exporter": "python",
   "pygments_lexer": "ipython3",
   "version": "3.7.0"
  }
 },
 "nbformat": 4,
 "nbformat_minor": 2
}
